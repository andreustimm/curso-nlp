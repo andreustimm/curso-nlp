{
  "cells": [
    {
      "cell_type": "raw",
      "metadata": {
        "vscode": {
          "languageId": "raw"
        }
      },
      "source": [
        "# Módulo 6: Modelos de Sequência\n",
        "\n",
        "## 🎯 Objetivos\n",
        "- Implementar modelos de n-gramas para linguagem\n",
        "- Aplicar Hidden Markov Models (HMM)\n",
        "- Utilizar Conditional Random Fields (CRF)\n",
        "- Realizar POS tagging e Named Entity Recognition\n",
        "- Avaliar modelos sequenciais\n",
        "- Comparar diferentes abordagens\n",
        "\n",
        "## 🔗 Modelos Sequenciais\n",
        "1. **N-gramas** - Bigramas, trigramas, suavização\n",
        "2. **Hidden Markov Models** - Viterbi, Forward-Backward\n",
        "3. **Conditional Random Fields** - Features, treinamento\n",
        "4. **POS Tagging** - Etiquetagem morfossintática\n",
        "5. **Named Entity Recognition** - Reconhecimento de entidades\n",
        "6. **Avaliação** - Accuracy, F1-score por tag\n"
      ]
    },
    {
      "cell_type": "code",
      "execution_count": null,
      "metadata": {},
      "outputs": [],
      "source": [
        "# Importações para modelos de sequência\n",
        "import pandas as pd\n",
        "import numpy as np\n",
        "import matplotlib.pyplot as plt\n",
        "import seaborn as sns\n",
        "from collections import defaultdict, Counter\n",
        "import warnings\n",
        "warnings.filterwarnings('ignore')\n",
        "\n",
        "# NLTK para modelos tradicionais\n",
        "import nltk\n",
        "from nltk.lm import MLE, Laplace\n",
        "from nltk.lm.preprocessing import padded_everygram_pipeline\n",
        "from nltk.tag import hmm\n",
        "from nltk.corpus import mac_morpho, floresta\n",
        "from nltk.tokenize import word_tokenize\n",
        "from nltk import pos_tag, ne_chunk\n",
        "\n",
        "# spaCy para NER moderno\n",
        "import spacy\n",
        "\n",
        "# CRF\n",
        "try:\n",
        "    import sklearn_crfsuite\n",
        "    from sklearn_crfsuite import CRF\n",
        "    from sklearn_crfsuite.metrics import flat_classification_report\n",
        "    crf_available = True\n",
        "except ImportError:\n",
        "    print(\"⚠️ sklearn_crfsuite não disponível. Instale com: pip install sklearn-crfsuite\")\n",
        "    crf_available = False\n",
        "\n",
        "# Visualização\n",
        "import plotly.express as px\n",
        "import plotly.graph_objects as go\n",
        "\n",
        "# Datasets\n",
        "import sys\n",
        "sys.path.append('..')\n",
        "from datasets.textos_exemplo import *\n",
        "from utils.nlp_utils import *\n",
        "\n",
        "# Carregar modelo spaCy\n",
        "nlp = spacy.load('pt_core_news_sm')\n",
        "\n",
        "print(\"🔗 Bibliotecas para modelos de sequência carregadas!\")\n"
      ]
    }
  ],
  "metadata": {
    "language_info": {
      "name": "python"
    }
  },
  "nbformat": 4,
  "nbformat_minor": 2
}
