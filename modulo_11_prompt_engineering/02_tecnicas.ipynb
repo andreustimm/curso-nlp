{
  "cells": [
    {
      "cell_type": "markdown",
      "metadata": {},
      "source": [
        "# Técnicas Avançadas de Prompt Engineering\n",
        "\n",
        "Este notebook explora técnicas avançadas de prompt engineering e suas aplicações práticas.\n",
        "\n",
        "## Conteúdo\n",
        "1. Chain-of-Thought Prompting\n",
        "2. Few-Shot Learning\n",
        "3. Role Prompting\n",
        "4. Técnicas de Refinamento\n",
        "5. Exercícios Práticos"
      ]
    },
    {
      "cell_type": "code",
      "execution_count": null,
      "metadata": {},
      "outputs": [],
      "source": [
        "# Configuração inicial\n",
        "%pip install openai python-dotenv transformers\n",
        "\n",
        "import os\n",
        "from dotenv import load_dotenv\n",
        "from transformers import pipeline\n",
        "\n",
        "# Carregando variáveis de ambiente\n",
        "load_dotenv()\n",
        "\n",
        "# Configurando o modelo\n",
        "generator = pipeline('text-generation', model='gpt2')\n"
      ]
    },
    {
      "cell_type": "markdown",
      "metadata": {
        "vscode": {
          "languageId": "raw"
        }
      },
      "source": [
        "# Chain-of-Thought Prompting\n",
        "\n",
        "Chain-of-Thought (CoT) é uma técnica que incentiva o modelo a mostrar seu raciocínio passo a passo.\n",
        "\n",
        "## Benefícios\n",
        "- Resolução de problemas complexos\n",
        "- Verificação de lógica\n",
        "- Debugging de raciocínio\n",
        "- Melhor compreensão do processo decisório\n",
        "\n",
        "## Exemplos\n",
        "\n",
        "### 1. Prompt Simples (Sem CoT)\n",
        "```\n",
        "Qual é o resultado de: Um vendedor tem 125 laranjas, vende 1/5 delas e depois compra o dobro do que vendeu. Quantas laranjas ele tem agora?\n",
        "```\n",
        "\n",
        "### 2. Prompt com Chain-of-Thought\n",
        "```\n",
        "Problema: Um vendedor tem 125 laranjas, vende 1/5 delas e depois compra o dobro do que vendeu. Quantas laranjas ele tem agora?\n",
        "\n",
        "Vamos resolver passo a passo:\n",
        "1. Primeiro, calcule quantas laranjas foram vendidas (1/5 de 125)\n",
        "2. Depois, subtraia esse número do total inicial\n",
        "3. Em seguida, calcule o dobro das laranjas vendidas\n",
        "4. Por fim, some esse número ao resultado do passo 2\n",
        "\n",
        "Mostre cada passo do cálculo e explique seu raciocínio.\n",
        "```\n",
        "\n",
        "## Dicas para Usar CoT\n",
        "1. Divida o problema em etapas claras\n",
        "2. Peça explicações para cada passo\n",
        "3. Solicite verificações intermediárias\n",
        "4. Use linguagem clara e precisa\n"
      ]
    },
    {
      "cell_type": "markdown",
      "metadata": {
        "vscode": {
          "languageId": "raw"
        }
      },
      "source": [
        "\n"
      ]
    },
    {
      "cell_type": "markdown",
      "metadata": {
        "vscode": {
          "languageId": "raw"
        }
      },
      "source": [
        "# Few-Shot Learning\n",
        "\n",
        "Few-Shot Learning é uma técnica onde fornecemos exemplos no prompt para ajudar o modelo a entender melhor o padrão desejado.\n",
        "\n",
        "## Benefícios\n",
        "- Melhor compreensão do formato esperado\n",
        "- Maior consistência nas respostas\n",
        "- Redução de erros de interpretação\n",
        "- Aprendizado por exemplos\n",
        "\n",
        "## Exemplos\n",
        "\n",
        "### 1. Prompt Simples (Sem Exemplos)\n",
        "```\n",
        "Classifique o sentimento da frase: \"O filme foi interessante, mas um pouco longo.\"\n",
        "```\n",
        "\n",
        "### 2. Prompt com Few-Shot Learning\n",
        "```\n",
        "Classifique o sentimento das frases, considerando o contexto e nuances:\n",
        "\n",
        "Exemplo 1:\n",
        "Frase: \"O restaurante tem boa comida, mas o serviço é lento.\"\n",
        "Análise:\n",
        "- Sentimento: Misto\n",
        "- Positivo: Qualidade da comida\n",
        "- Negativo: Tempo de serviço\n",
        "- Nuance: Usa \"mas\" para contrastar aspectos\n",
        "\n",
        "Exemplo 2:\n",
        "Frase: \"Adorei tudo! Melhor experiência ever!\"\n",
        "Análise:\n",
        "- Sentimento: Muito Positivo\n",
        "- Positivo: Experiência geral\n",
        "- Ênfase: Uso de exclamação e superlativos\n",
        "- Nuance: Expressão informal de entusiasmo\n",
        "\n",
        "Exemplo 3:\n",
        "Frase: \"É um produto básico, serve pro dia a dia.\"\n",
        "Análise:\n",
        "- Sentimento: Neutro\n",
        "- Contexto: Uso cotidiano\n",
        "- Nuance: Sem extremos emocionais\n",
        "- Expectativa: Atende o necessário\n",
        "\n",
        "Agora analise:\n",
        "Frase: \"O filme foi interessante, mas um pouco longo.\"\n",
        "```\n",
        "\n",
        "## Dicas para Few-Shot Learning\n",
        "1. Use exemplos representativos\n",
        "2. Mantenha consistência no formato\n",
        "3. Inclua casos variados\n",
        "4. Ordene do mais simples ao mais complexo\n"
      ]
    },
    {
      "cell_type": "code",
      "execution_count": null,
      "metadata": {},
      "outputs": [],
      "source": [
        "# Exemplo de Chain-of-Thought Prompting\n",
        "\n",
        "# Prompt sem CoT\n",
        "prompt_simples = \"Qual é o resultado de: Um vendedor tem 125 laranjas, vende 1/5 delas e depois compra o dobro do que vendeu. Quantas laranjas ele tem agora?\"\n",
        "\n",
        "# Prompt com CoT\n",
        "prompt_cot = \"\"\"\n",
        "Problema: Um vendedor tem 125 laranjas, vende 1/5 delas e depois compra o dobro do que vendeu. Quantas laranjas ele tem agora?\n",
        "\n",
        "Vamos resolver passo a passo:\n",
        "1. Primeiro, calcule quantas laranjas foram vendidas (1/5 de 125)\n",
        "2. Depois, subtraia esse número do total inicial\n",
        "3. Em seguida, calcule o dobro das laranjas vendidas\n",
        "4. Por fim, some esse número ao resultado do passo 2\n",
        "\n",
        "Mostre cada passo do cálculo e explique seu raciocínio.\n",
        "\"\"\"\n",
        "\n",
        "# Testando os prompts\n",
        "print(\"Resultado sem Chain-of-Thought:\")\n",
        "resultado_simples = generator(prompt_simples, max_length=100, num_return_sequences=1)\n",
        "print(resultado_simples[0]['generated_text'])\n",
        "\n",
        "print(\"\\nResultado com Chain-of-Thought:\")\n",
        "resultado_cot = generator(prompt_cot, max_length=300, num_return_sequences=1)\n",
        "print(resultado_cot[0]['generated_text'])\n"
      ]
    },
    {
      "cell_type": "markdown",
      "metadata": {
        "vscode": {
          "languageId": "raw"
        }
      },
      "source": [
        "# Role Prompting\n",
        "\n",
        "Role Prompting é uma técnica onde definimos um papel ou persona específica para o modelo assumir.\n",
        "\n",
        "## Benefícios\n",
        "- Manter consistência no tom e estilo\n",
        "- Obter respostas mais especializadas\n",
        "- Adequar o nível de linguagem ao contexto\n",
        "- Simular diferentes perspectivas\n",
        "\n",
        "## Exemplos\n",
        "\n",
        "### 1. Professor Universitário\n",
        "```\n",
        "Role: Você é um professor universitário de segurança da informação.\n",
        "Público: Alunos do primeiro ano de Ciência da Computação.\n",
        "Objetivo: Explicar o conceito de vírus de computador de forma técnica mas compreensível.\n",
        "Formato: Explicação estruturada com definição, tipos e exemplos.\n",
        "```\n",
        "\n",
        "### 2. Pai/Mãe\n",
        "```\n",
        "Role: Você é um pai/mãe explicando tecnologia para seu filho de 10 anos.\n",
        "Público: Criança curiosa sobre tecnologia.\n",
        "Objetivo: Explicar vírus de computador de forma simples e com analogias do dia a dia.\n",
        "Formato: Conversa casual com analogias e exemplos do mundo real.\n",
        "```\n",
        "\n",
        "### 3. Executivo (CISO)\n",
        "```\n",
        "Role: Você é um CISO (Chief Information Security Officer) em uma reunião executiva.\n",
        "Público: CEOs e diretores não técnicos.\n",
        "Objetivo: Explicar riscos e impactos de vírus nos negócios.\n",
        "Formato: Apresentação focada em riscos, custos e estratégias de proteção.\n",
        "```\n",
        "\n",
        "## Dicas para Role Prompting\n",
        "1. Defina claramente o papel e suas características\n",
        "2. Especifique o público-alvo\n",
        "3. Estabeleça o nível de conhecimento esperado\n",
        "4. Mantenha consistência com o papel escolhido\n"
      ]
    },
    {
      "cell_type": "markdown",
      "metadata": {
        "vscode": {
          "languageId": "raw"
        }
      },
      "source": [
        "\n"
      ]
    },
    {
      "cell_type": "markdown",
      "metadata": {
        "vscode": {
          "languageId": "raw"
        }
      },
      "source": [
        "\n"
      ]
    },
    {
      "cell_type": "markdown",
      "metadata": {
        "vscode": {
          "languageId": "raw"
        }
      },
      "source": [
        "### Exemplo de Few-Shot Learning\n",
        "\n",
        "#### Prompt Sem Exemplos\n",
        "```\n",
        "Classifique o sentimento da frase: \"O filme foi interessante, mas um pouco longo.\"\n",
        "```\n",
        "\n",
        "#### Prompt Com Exemplos (Few-Shot)\n",
        "```\n",
        "Classifique o sentimento das frases, considerando o contexto e nuances:\n",
        "\n",
        "Exemplo 1:\n",
        "Frase: \"O restaurante tem boa comida, mas o serviço é lento.\"\n",
        "Análise:\n",
        "- Sentimento: Misto\n",
        "- Positivo: Qualidade da comida\n",
        "- Negativo: Tempo de serviço\n",
        "- Nuance: Usa \"mas\" para contrastar aspectos\n",
        "\n",
        "Exemplo 2:\n",
        "Frase: \"Adorei tudo! Melhor experiência ever!\"\n",
        "Análise:\n",
        "- Sentimento: Muito Positivo\n",
        "- Positivo: Experiência geral\n",
        "- Ênfase: Uso de exclamação e superlativos\n",
        "- Nuance: Expressão informal de entusiasmo\n",
        "\n",
        "Exemplo 3:\n",
        "Frase: \"É um produto básico, serve pro dia a dia.\"\n",
        "Análise:\n",
        "- Sentimento: Neutro\n",
        "- Contexto: Uso cotidiano\n",
        "- Nuance: Sem extremos emocionais\n",
        "- Expectativa: Atende o necessário\n",
        "\n",
        "Agora analise:\n",
        "Frase: \"O filme foi interessante, mas um pouco longo.\"\n",
        "Análise:\n",
        "```\n",
        "\n",
        "Vamos comparar os resultados dos dois tipos de prompts:\n"
      ]
    },
    {
      "cell_type": "code",
      "execution_count": null,
      "metadata": {},
      "outputs": [],
      "source": [
        "# Exemplo de Few-Shot Learning\n",
        "\n",
        "# Prompt sem exemplos\n",
        "prompt_sem_exemplos = \"Classifique o sentimento da frase: 'O filme foi interessante, mas um pouco longo.'\"\n",
        "\n",
        "# Prompt com exemplos (few-shot)\n",
        "prompt_few_shot = \"\"\"\n",
        "Classifique o sentimento das frases, considerando o contexto e nuances:\n",
        "\n",
        "Exemplo 1:\n",
        "Frase: \"O restaurante tem boa comida, mas o serviço é lento.\"\n",
        "Análise:\n",
        "- Sentimento: Misto\n",
        "- Positivo: Qualidade da comida\n",
        "- Negativo: Tempo de serviço\n",
        "- Nuance: Usa \"mas\" para contrastar aspectos\n",
        "\n",
        "Exemplo 2:\n",
        "Frase: \"Adorei tudo! Melhor experiência ever!\"\n",
        "Análise:\n",
        "- Sentimento: Muito Positivo\n",
        "- Positivo: Experiência geral\n",
        "- Ênfase: Uso de exclamação e superlativos\n",
        "- Nuance: Expressão informal de entusiasmo\n",
        "\n",
        "Exemplo 3:\n",
        "Frase: \"É um produto básico, serve pro dia a dia.\"\n",
        "Análise:\n",
        "- Sentimento: Neutro\n",
        "- Contexto: Uso cotidiano\n",
        "- Nuance: Sem extremos emocionais\n",
        "- Expectativa: Atende o necessário\n",
        "\n",
        "Agora analise:\n",
        "Frase: \"O filme foi interessante, mas um pouco longo.\"\n",
        "Análise:\n",
        "\"\"\"\n",
        "\n",
        "# Testando os prompts\n",
        "print(\"Resultado sem Few-Shot:\")\n",
        "resultado_sem_exemplos = generator(prompt_sem_exemplos, max_length=100, num_return_sequences=1)\n",
        "print(resultado_sem_exemplos[0]['generated_text'])\n",
        "\n",
        "print(\"\\nResultado com Few-Shot:\")\n",
        "resultado_few_shot = generator(prompt_few_shot, max_length=300, num_return_sequences=1)\n",
        "print(resultado_few_shot[0]['generated_text'])\n"
      ]
    },
    {
      "cell_type": "markdown",
      "metadata": {
        "vscode": {
          "languageId": "raw"
        }
      },
      "source": [
        "\n"
      ]
    },
    {
      "cell_type": "markdown",
      "metadata": {
        "vscode": {
          "languageId": "raw"
        }
      },
      "source": [
        "\n"
      ]
    },
    {
      "cell_type": "raw",
      "metadata": {
        "vscode": {
          "languageId": "raw"
        }
      },
      "source": [
        "# Técnicas de Refinamento\n",
        "\n",
        "O refinamento é o processo iterativo de melhorar prompts para obter resultados mais precisos.\n",
        "\n",
        "## Processo de Refinamento\n",
        "\n",
        "### Versão 1 (Básica)\n",
        "```\n",
        "Escreva um e-mail de marketing.\n",
        "```\n",
        "\n",
        "### Versão 2 (Melhorada)\n",
        "```\n",
        "Escreva um e-mail de marketing para promover um curso online de Python.\n",
        "Público: Iniciantes em programação\n",
        "Objetivo: Converter leads em inscrições\n",
        "```\n",
        "\n",
        "### Versão 3 (Refinada)\n",
        "```\n",
        "Contexto: Copywriter especializado em educação online\n",
        "Produto: Curso \"Python do Zero ao Profissional\" (R$ 497)\n",
        "Público: Profissionais migrando para tech (25-40 anos)\n",
        "\n",
        "Estrutura:\n",
        "1. Assunto chamativo (máximo 50 caracteres)\n",
        "2. Abertura personalizada\n",
        "3. Problema identificado\n",
        "4. Solução oferecida\n",
        "5. Prova social\n",
        "6. Call-to-action claro\n",
        "\n",
        "Requisitos:\n",
        "- Tom conversacional mas profissional\n",
        "- Máximo 300 palavras\n",
        "- Uma CTA principal\n",
        "```\n",
        "\n",
        "## Dicas de Refinamento\n",
        "1. Teste com dados reais\n",
        "2. Colete feedback dos usuários\n",
        "3. Documente as versões\n",
        "4. Meça resultados quantitativamente\n"
      ]
    },
    {
      "cell_type": "raw",
      "metadata": {
        "vscode": {
          "languageId": "raw"
        }
      },
      "source": [
        "# Exercícios Práticos\n",
        "\n",
        "## Exercício 1: Chain-of-Thought\n",
        "Crie um prompt usando CoT para resolver este problema:\n",
        "```\n",
        "\"Uma pizzaria vende pizzas grandes por R$ 25 e pequenas por R$ 18. \n",
        "Se venderam 15 pizzas grandes e 22 pequenas, quanto arrecadaram no total?\"\n",
        "```\n",
        "\n",
        "## Exercício 2: Few-Shot Learning\n",
        "Desenvolva um prompt com exemplos para classificar e-mails em:\n",
        "- Urgente\n",
        "- Importante  \n",
        "- Rotina\n",
        "- Spam\n",
        "\n",
        "## Exercício 3: Role Prompting\n",
        "Crie prompts para explicar \"machine learning\" assumindo os papéis:\n",
        "- Professor universitário\n",
        "- Jornalista de tecnologia\n",
        "- Gerente de produto\n",
        "\n",
        "## Exercício 4: Refinamento\n",
        "Pegue este prompt básico e refine-o em 3 versões:\n",
        "```\n",
        "\"Crie um post para LinkedIn sobre inteligência artificial.\"\n",
        "```\n",
        "\n",
        "## Desafio Final\n",
        "Combine todas as técnicas para criar um sistema de atendimento ao cliente que:\n",
        "1. Use role prompting para definir personalidade\n",
        "2. Aplique few-shot learning para padrões de resposta\n",
        "3. Implemente chain-of-thought para resolução de problemas\n",
        "4. Tenha processo de refinamento documentado\n",
        "\n",
        "## Critérios de Avaliação\n",
        "- Clareza e especificidade dos prompts\n",
        "- Uso adequado de cada técnica\n",
        "- Consistência nos resultados\n",
        "- Aplicabilidade prática\n"
      ]
    },
    {
      "cell_type": "raw",
      "metadata": {},
      "source": []
    },
    {
      "cell_type": "raw",
      "metadata": {
        "vscode": {
          "languageId": "raw"
        }
      },
      "source": []
    },
    {
      "cell_type": "code",
      "execution_count": null,
      "metadata": {},
      "outputs": [],
      "source": [
        "# Exemplo de Role Prompting\n",
        "\n",
        "# Tópico: Explicar o que é um vírus de computador\n",
        "# Vamos ver como diferentes roles abordam o mesmo assunto\n",
        "\n",
        "roles = {\n",
        "    \"professor\": \"\"\"\n",
        "    Role: Você é um professor universitário de segurança da informação.\n",
        "    Público: Alunos do primeiro ano de Ciência da Computação.\n",
        "    Objetivo: Explicar o conceito de vírus de computador de forma técnica mas compreensível.\n",
        "    Formato: Explicação estruturada com definição, tipos e exemplos.\n",
        "    \"\"\",\n",
        "    \n",
        "    \"pai\": \"\"\"\n",
        "    Role: Você é um pai/mãe explicando tecnologia para seu filho de 10 anos.\n",
        "    Público: Criança curiosa sobre tecnologia.\n",
        "    Objetivo: Explicar vírus de computador de forma simples e com analogias do dia a dia.\n",
        "    Formato: Conversa casual com analogias e exemplos do mundo real.\n",
        "    \"\"\",\n",
        "    \n",
        "    \"executivo\": \"\"\"\n",
        "    Role: Você é um CISO (Chief Information Security Officer) em uma reunião executiva.\n",
        "    Público: CEOs e diretores não técnicos.\n",
        "    Objetivo: Explicar riscos e impactos de vírus nos negócios.\n",
        "    Formato: Apresentação focada em riscos, custos e estratégias de proteção.\n",
        "    \"\"\"\n",
        "}\n",
        "\n",
        "# Função para testar diferentes roles\n",
        "def testar_role(role, descricao):\n",
        "    prompt = f\"{descricao}\\n\\nExplique o que é um vírus de computador.\"\n",
        "    print(f\"\\n=== Perspectiva do {role.upper()} ===\")\n",
        "    resultado = generator(prompt, max_length=200, num_return_sequences=1)\n",
        "    print(resultado[0]['generated_text'])\n",
        "    print(\"\\n\" + \"=\"*50)\n",
        "\n",
        "# Testando cada role\n",
        "for role, descricao in roles.items():\n",
        "    testar_role(role, descricao)\n"
      ]
    }
  ],
  "metadata": {
    "language_info": {
      "name": "python"
    }
  },
  "nbformat": 4,
  "nbformat_minor": 2
}
