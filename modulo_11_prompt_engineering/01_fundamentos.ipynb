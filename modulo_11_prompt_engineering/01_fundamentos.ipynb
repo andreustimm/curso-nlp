{
  "cells": [
    {
      "cell_type": "markdown",
      "metadata": {},
      "source": [
        "# Fundamentos de Prompt Engineering\n",
        "\n",
        "Este notebook apresenta os conceitos fundamentais de prompt engineering, incluindo exemplos práticos e exercícios.\n",
        "\n",
        "## Conteúdo\n",
        "1. Introdução ao Prompt Engineering\n",
        "2. Anatomia de um Prompt\n",
        "3. Tipos de Prompts\n",
        "4. Componentes Essenciais\n",
        "5. Exercícios Práticos"
      ]
    },
    {
      "cell_type": "markdown",
      "metadata": {},
      "source": [
        "## 1. Introdução ao Prompt Engineering\n",
        "\n",
        "Prompt Engineering é a arte e ciência de projetar e otimizar instruções para modelos de linguagem. É uma habilidade fundamental para:\n",
        "- Obter respostas mais precisas\n",
        "- Melhorar a consistência dos resultados\n",
        "- Reduzir alucinações e erros\n",
        "- Otimizar o uso de tokens"
      ]
    },
    {
      "cell_type": "code",
      "execution_count": null,
      "metadata": {},
      "outputs": [],
      "source": [
        "# Instalando bibliotecas necessárias\n",
        "%pip install openai python-dotenv transformers\n"
      ]
    },
    {
      "cell_type": "code",
      "execution_count": null,
      "metadata": {},
      "outputs": [],
      "source": [
        "import os\n",
        "from dotenv import load_dotenv\n",
        "from transformers import pipeline\n",
        "\n",
        "# Carregando variáveis de ambiente\n",
        "load_dotenv()\n",
        "\n",
        "# Configurando o modelo local para exemplos\n",
        "generator = pipeline('text-generation', model='gpt2')\n"
      ]
    },
    {
      "cell_type": "markdown",
      "metadata": {
        "vscode": {
          "languageId": "raw"
        }
      },
      "source": [
        "## 2. Anatomia de um Prompt\n",
        "\n",
        "Um prompt bem estruturado geralmente contém:\n",
        "1. **Contexto**: Informações de fundo e situação\n",
        "2. **Instrução**: O que você quer que o modelo faça\n",
        "3. **Exemplos**: Demonstrações do resultado esperado (few-shot)\n",
        "4. **Formato**: Como a resposta deve ser estruturada\n",
        "5. **Restrições**: Limitações e regras a serem seguidas\n"
      ]
    },
    {
      "cell_type": "markdown",
      "metadata": {
        "vscode": {
          "languageId": "raw"
        }
      },
      "source": [
        "### Exemplos de Prompts\n",
        "\n",
        "#### Prompt Simples\n",
        "> Explique machine learning.\n",
        "\n",
        "#### Prompt Bem Estruturado\n",
        "> **Contexto:**  \n",
        "> Você é um professor especializado em explicar conceitos técnicos para iniciantes em tecnologia.\n",
        ">\n",
        "> **Instrução:**  \n",
        "> Explique o conceito de machine learning de forma simples e prática.\n",
        ">\n",
        "> **Formato desejado:**\n",
        "> 1. Definição em uma frase\n",
        "> 2. Analogia com algo do dia a dia\n",
        "> 3. Três exemplos práticos de aplicação\n",
        "> 4. Um parágrafo de conclusão\n",
        ">\n",
        "> **Restrições:**\n",
        "> - Evite jargão técnico\n",
        "> - Use exemplos do cotidiano\n",
        "> - Mantenha cada seção com no máximo 3 linhas\n",
        "> - Foque em aplicações práticas\n",
        "\n",
        "Vamos comparar os resultados de ambos os prompts:\n"
      ]
    },
    {
      "cell_type": "markdown",
      "metadata": {
        "vscode": {
          "languageId": "raw"
        }
      },
      "source": [
        "### Exemplos de Prompts\n",
        "\n",
        "#### Prompt Simples\n",
        "```\n",
        "Explique machine learning.\n",
        "```\n",
        "\n",
        "#### Prompt Bem Estruturado\n",
        "```\n",
        "Contexto: Você é um professor especializado em explicar conceitos técnicos para iniciantes em tecnologia.\n",
        "\n",
        "Instrução: Explique o conceito de machine learning de forma simples e prática.\n",
        "\n",
        "Formato desejado:\n",
        "1. Definição em uma frase\n",
        "2. Analogia com algo do dia a dia\n",
        "3. Três exemplos práticos de aplicação\n",
        "4. Um parágrafo de conclusão\n",
        "\n",
        "Restrições:\n",
        "- Evite jargão técnico\n",
        "- Use exemplos do cotidiano\n",
        "- Mantenha cada seção com no máximo 3 linhas\n",
        "- Foque em aplicações práticas\n",
        "```\n",
        "\n",
        "Vamos comparar os resultados de ambos os prompts:\n"
      ]
    },
    {
      "cell_type": "code",
      "execution_count": null,
      "metadata": {},
      "outputs": [],
      "source": [
        "# Exemplo: Comparação entre prompts simples e bem estruturados\n",
        "\n",
        "# Prompt simples\n",
        "prompt_simples = \"Explique machine learning.\"\n",
        "\n",
        "# Prompt bem estruturado\n",
        "prompt_estruturado = \"\"\"\n",
        "Contexto: Você é um professor especializado em explicar conceitos técnicos para iniciantes em tecnologia.\n",
        "\n",
        "Instrução: Explique o conceito de machine learning de forma simples e prática.\n",
        "\n",
        "Formato desejado:\n",
        "1. Definição em uma frase\n",
        "2. Analogia com algo do dia a dia\n",
        "3. Três exemplos práticos de aplicação\n",
        "4. Um parágrafo de conclusão\n",
        "\n",
        "Restrições:\n",
        "- Evite jargão técnico\n",
        "- Use exemplos do cotidiano\n",
        "- Mantenha cada seção com no máximo 3 linhas\n",
        "- Foque em aplicações práticas\n",
        "\"\"\"\n",
        "\n",
        "# Testando os prompts\n",
        "print(\"Resultado do prompt simples:\")\n",
        "resultado_simples = generator(prompt_simples, max_length=100, num_return_sequences=1)\n",
        "print(resultado_simples[0]['generated_text'])\n",
        "\n",
        "print(\"\\nResultado do prompt estruturado:\")\n",
        "resultado_estruturado = generator(prompt_estruturado, max_length=200, num_return_sequences=1)\n",
        "print(resultado_estruturado[0]['generated_text'])\n"
      ]
    },
    {
      "cell_type": "raw",
      "metadata": {
        "vscode": {
          "languageId": "raw"
        }
      },
      "source": [
        "# Tipos de Prompts\n",
        "\n",
        "## 1. Zero-Shot Prompts\n",
        "Prompts que não fornecem exemplos, apenas instruções diretas.\n",
        "\n",
        "```\n",
        "Classifique o sentimento do texto: \"O filme foi interessante, mas muito longo.\"\n",
        "```\n",
        "\n",
        "## 2. One-Shot Prompts\n",
        "Prompts com um único exemplo para demonstrar o padrão.\n",
        "\n",
        "```\n",
        "Classifique o sentimento dos textos:\n",
        "\n",
        "Exemplo:\n",
        "Texto: \"Adorei o produto, chegou rapidinho!\"\n",
        "Sentimento: Positivo\n",
        "\n",
        "Agora classifique:\n",
        "Texto: \"O atendimento foi péssimo, não recomendo.\"\n",
        "Sentimento: ?\n",
        "```\n",
        "\n",
        "## 3. Few-Shot Prompts\n",
        "Prompts com múltiplos exemplos para melhor compreensão do padrão.\n",
        "\n",
        "```\n",
        "Traduza as frases do inglês para português:\n",
        "\n",
        "Hello → Olá\n",
        "Thank you → Obrigado\n",
        "Good morning → Bom dia\n",
        "\n",
        "How are you? → ?\n",
        "```\n",
        "\n",
        "## 4. Chain-of-Thought Prompts\n",
        "Prompts que solicitam raciocínio passo a passo.\n",
        "\n",
        "```\n",
        "Resolva o problema mostrando seu raciocínio:\n",
        "\n",
        "Maria tem 15 maçãs. Ela deu 1/3 para João e 2 maçãs para Ana. \n",
        "Quantas maçãs Maria tem agora?\n",
        "\n",
        "Vamos resolver passo a passo:\n",
        "1. Primeiro, calcule quantas maçãs Maria deu para João\n",
        "2. Depois, subtraia as maçãs dadas para João e Ana\n",
        "3. Por fim, determine quantas sobraram\n",
        "```\n"
      ]
    },
    {
      "cell_type": "raw",
      "metadata": {
        "vscode": {
          "languageId": "raw"
        }
      },
      "source": [
        "# Componentes Essenciais\n",
        "\n",
        "## 1. Clareza e Especificidade\n",
        "Seja claro sobre o que você quer.\n",
        "\n",
        "❌ **Ruim:**\n",
        "```\n",
        "Fale sobre carros.\n",
        "```\n",
        "\n",
        "✅ **Bom:**\n",
        "```\n",
        "Compare as vantagens e desvantagens de carros elétricos vs. carros a combustão, \n",
        "focando em custo, impacto ambiental e praticidade para uso urbano.\n",
        "```\n",
        "\n",
        "## 2. Contexto Adequado\n",
        "Forneça informações necessárias para a tarefa.\n",
        "\n",
        "```\n",
        "Contexto: Você é um consultor financeiro atendendo um jovem de 25 anos \n",
        "que acabou de começar a trabalhar e quer começar a investir.\n",
        "\n",
        "Pergunta: Como devo começar a investir com R$ 500 por mês?\n",
        "```\n",
        "\n",
        "## 3. Formato de Saída\n",
        "Especifique como quer a resposta.\n",
        "\n",
        "```\n",
        "Analise o seguinte produto e responda no formato JSON:\n",
        "\n",
        "Produto: \"Smartphone XYZ com 128GB, câmera tripla\"\n",
        "\n",
        "Formato:\n",
        "{\n",
        "  \"categoria\": \"\",\n",
        "  \"pontos_fortes\": [],\n",
        "  \"pontos_fracos\": [],\n",
        "  \"publico_alvo\": \"\",\n",
        "  \"preco_estimado\": \"\"\n",
        "}\n",
        "```\n",
        "\n",
        "## 4. Limitações e Restrições\n",
        "Defina limites claros.\n",
        "\n",
        "```\n",
        "Crie um resumo executivo sobre inteligência artificial com as seguintes restrições:\n",
        "- Máximo 200 palavras\n",
        "- Linguagem acessível para não-técnicos\n",
        "- Foque em aplicações práticas\n",
        "- Inclua pelo menos 3 exemplos de uso\n",
        "```\n"
      ]
    },
    {
      "cell_type": "raw",
      "metadata": {
        "vscode": {
          "languageId": "raw"
        }
      },
      "source": [
        "# Exercícios Práticos\n",
        "\n",
        "## Exercício 1: Melhorando Prompts Básicos\n",
        "Transforme estes prompts simples em prompts bem estruturados:\n",
        "\n",
        "### 1.1 Original:\n",
        "```\n",
        "Escreva sobre marketing digital.\n",
        "```\n",
        "\n",
        "**Sua versão melhorada:**\n",
        "- Adicione contexto\n",
        "- Defina público-alvo\n",
        "- Especifique formato\n",
        "- Inclua restrições\n",
        "\n",
        "### 1.2 Original:\n",
        "```\n",
        "Traduza para inglês: \"Bom dia, como você está?\"\n",
        "```\n",
        "\n",
        "**Sua versão melhorada:**\n",
        "- Adicione contexto da situação\n",
        "- Especifique registro (formal/informal)\n",
        "- Defina público-alvo\n",
        "\n",
        "## Exercício 2: Criando Prompts por Tipo\n",
        "\n",
        "### 2.1 Zero-Shot\n",
        "Crie um prompt zero-shot para classificar emails como spam ou não-spam.\n",
        "\n",
        "### 2.2 Few-Shot\n",
        "Desenvolva um prompt few-shot para converter temperaturas (inclua 3 exemplos).\n",
        "\n",
        "### 2.3 Chain-of-Thought\n",
        "Elabore um prompt CoT para calcular o preço final de um produto com desconto e impostos.\n",
        "\n",
        "## Exercício 3: Componentes Essenciais\n",
        "Para cada cenário, identifique que componentes são necessários:\n",
        "\n",
        "1. **Cenário:** Gerar descrição de produto para e-commerce\n",
        "2. **Cenário:** Criar resposta automática para atendimento ao cliente\n",
        "3. **Cenário:** Resumir artigo científico para público leigo\n",
        "\n",
        "## Critérios de Avaliação\n",
        "- Clareza e especificidade\n",
        "- Uso adequado de contexto\n",
        "- Formato bem definido\n",
        "- Restrições apropriadas\n"
      ]
    }
  ],
  "metadata": {
    "kernelspec": {
      "display_name": "Python 3",
      "language": "python",
      "name": "python3"
    },
    "language_info": {
      "codemirror_mode": {
        "name": "ipython",
        "version": 3
      },
      "file_extension": ".py",
      "mimetype": "text/x-python",
      "name": "python",
      "nbconvert_exporter": "python",
      "pygments_lexer": "ipython3",
      "version": "3.12.2"
    }
  },
  "nbformat": 4,
  "nbformat_minor": 2
}
