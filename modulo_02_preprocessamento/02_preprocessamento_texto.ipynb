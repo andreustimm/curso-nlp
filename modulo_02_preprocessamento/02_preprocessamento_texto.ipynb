{
  "cells": [
    {
      "cell_type": "raw",
      "metadata": {
        "vscode": {
          "languageId": "raw"
        }
      },
      "source": [
        "# Módulo 2: Pré-processamento de Texto\n",
        "\n",
        "## 🎯 Objetivos\n",
        "- Dominar técnicas de limpeza de texto\n",
        "- Implementar tokenização eficaz\n",
        "- Aplicar stemming e lemmatização\n",
        "- Normalizar e padronizar textos\n",
        "- Lidar com diferentes idiomas e caracteres especiais\n",
        "\n",
        "## 📚 Conteúdo Prático\n",
        "1. Limpeza básica de texto\n",
        "2. Tokenização avançada\n",
        "3. Remoção de stopwords\n",
        "4. Stemming vs Lemmatização\n",
        "5. Normalização e padronização\n",
        "6. Pipeline completo de pré-processamento\n"
      ]
    },
    {
      "cell_type": "code",
      "execution_count": null,
      "metadata": {},
      "outputs": [],
      "source": [
        "# Importações necessárias\n",
        "import re\n",
        "import string\n",
        "import unicodedata\n",
        "from collections import Counter\n",
        "\n",
        "import pandas as pd\n",
        "import numpy as np\n",
        "import matplotlib.pyplot as plt\n",
        "import seaborn as sns\n",
        "\n",
        "# NLP Libraries\n",
        "import nltk\n",
        "import spacy\n",
        "from textblob import TextBlob\n",
        "from unidecode import unidecode\n",
        "\n",
        "# Baixar recursos necessários do NLTK\n",
        "nltk.download('punkt', quiet=True)\n",
        "nltk.download('stopwords', quiet=True)\n",
        "nltk.download('wordnet', quiet=True)\n",
        "nltk.download('rslp', quiet=True)\n",
        "\n",
        "# Carregar modelo do spaCy\n",
        "nlp = spacy.load('pt_core_news_sm')\n",
        "\n",
        "# Importar datasets de exemplo\n",
        "import sys\n",
        "sys.path.append('..')\n",
        "from datasets.textos_exemplo import *\n",
        "from utils.nlp_utils import *\n",
        "\n",
        "print(\"✅ Todas as bibliotecas carregadas com sucesso!\")\n"
      ]
    },
    {
      "cell_type": "raw",
      "metadata": {
        "vscode": {
          "languageId": "raw"
        }
      },
      "source": [
        "## 🧹 1. Limpeza Básica de Texto\n",
        "\n",
        "Vamos começar com técnicas fundamentais de limpeza de texto usando nossos dados de exemplo.\n"
      ]
    },
    {
      "cell_type": "code",
      "execution_count": null,
      "metadata": {},
      "outputs": [],
      "source": [
        "# Vamos trabalhar com textos ruidosos para demonstrar a limpeza\n",
        "textos_sujos = textos_ruidosos\n",
        "\n",
        "print(\"📝 Textos originais (com ruído):\")\n",
        "for i, texto in enumerate(textos_sujos[:3]):\n",
        "    print(f\"\\n{i+1}. {texto}\")\n",
        "\n",
        "print(\"\\n\" + \"=\"*60)\n",
        "\n",
        "# Função de limpeza básica\n",
        "def limpeza_basica(texto):\n",
        "    \"\"\"\n",
        "    Aplica limpeza básica ao texto:\n",
        "    - Remove URLs\n",
        "    - Remove emails  \n",
        "    - Remove caracteres especiais\n",
        "    - Normaliza espaços\n",
        "    \"\"\"\n",
        "    # Remover URLs\n",
        "    texto = re.sub(r'http\\S+|www\\S+|https\\S+', '', texto, flags=re.MULTILINE)\n",
        "    \n",
        "    # Remover emails\n",
        "    texto = re.sub(r'\\S+@\\S+', '', texto)\n",
        "    \n",
        "    # Remover caracteres especiais (manter apenas letras, números e espaços)\n",
        "    texto = re.sub(r'[^a-zA-ZÀ-ÿ0-9\\s]', '', texto)\n",
        "    \n",
        "    # Normalizar espaços múltiplos\n",
        "    texto = re.sub(r'\\s+', ' ', texto)\n",
        "    \n",
        "    # Remover espaços no início e fim\n",
        "    texto = texto.strip()\n",
        "    \n",
        "    return texto\n",
        "\n",
        "# Aplicar limpeza\n",
        "textos_limpos = [limpeza_basica(texto) for texto in textos_sujos]\n",
        "\n",
        "print(\"✨ Textos após limpeza básica:\")\n",
        "for i, texto in enumerate(textos_limpos[:3]):\n",
        "    print(f\"\\n{i+1}. {texto}\")\n",
        "\n",
        "# Comparar antes e depois\n",
        "print(f\"\\n📊 Estatísticas:\")\n",
        "print(f\"Texto original médio: {np.mean([len(t) for t in textos_sujos]):.1f} caracteres\")\n",
        "print(f\"Texto limpo médio: {np.mean([len(t) for t in textos_limpos]):.1f} caracteres\")\n",
        "print(f\"Redução média: {(1 - np.mean([len(t) for t in textos_limpos])/np.mean([len(t) for t in textos_sujos]))*100:.1f}%\")\n"
      ]
    },
    {
      "cell_type": "raw",
      "metadata": {
        "vscode": {
          "languageId": "raw"
        }
      },
      "source": [
        "# Módulo 2: Pré-processamento de Texto - Notebook Prático\n",
        "\n",
        "## 🎯 Objetivos\n",
        "- Implementar técnicas avançadas de limpeza de texto\n",
        "- Comparar diferentes métodos de tokenização\n",
        "- Aplicar stemming e lemmatização\n",
        "- Trabalhar com expressões regulares\n",
        "- Criar pipelines de pré-processamento robustos\n",
        "\n",
        "## 📚 Conteúdo\n",
        "1. Configuração e dados de exemplo\n",
        "2. Limpeza e normalização de texto\n",
        "3. Tokenização avançada\n",
        "4. Stemming vs Lemmatização\n",
        "5. Remoção inteligente de stopwords\n",
        "6. Pipeline completo de pré-processamento\n"
      ]
    },
    {
      "cell_type": "code",
      "execution_count": null,
      "metadata": {},
      "outputs": [],
      "source": [
        "# Importações necessárias\n",
        "import pandas as pd\n",
        "import numpy as np\n",
        "import matplotlib.pyplot as plt\n",
        "import seaborn as sns\n",
        "import re\n",
        "import unicodedata\n",
        "from collections import Counter\n",
        "import warnings\n",
        "warnings.filterwarnings('ignore')\n",
        "\n",
        "# NLP Libraries\n",
        "import nltk\n",
        "import spacy\n",
        "from textblob import TextBlob\n",
        "\n",
        "# Download recursos do NLTK\n",
        "nltk.download('punkt', quiet=True)\n",
        "nltk.download('stopwords', quiet=True)\n",
        "nltk.download('wordnet', quiet=True)\n",
        "nltk.download('rslp', quiet=True)\n",
        "\n",
        "# Importações específicas do NLTK\n",
        "from nltk.tokenize import word_tokenize, sent_tokenize, TweetTokenizer\n",
        "from nltk.corpus import stopwords\n",
        "from nltk.stem import PorterStemmer, SnowballStemmer, RSLPStemmer\n",
        "from nltk.stem import WordNetLemmatizer\n",
        "\n",
        "# Configurar visualização\n",
        "plt.style.use('seaborn-v0_8')\n",
        "plt.rcParams['figure.figsize'] = (12, 8)\n",
        "\n",
        "print(\"✅ Bibliotecas importadas com sucesso!\")\n",
        "\n",
        "# Carregar modelo do spaCy\n",
        "try:\n",
        "    nlp = spacy.load(\"pt_core_news_sm\")\n",
        "    print(\"✅ Modelo em português carregado!\")\n",
        "except OSError:\n",
        "    nlp = spacy.load(\"en_core_web_sm\")\n",
        "    print(\"⚠️ Usando modelo em inglês\")\n"
      ]
    }
  ],
  "metadata": {
    "language_info": {
      "name": "python"
    }
  },
  "nbformat": 4,
  "nbformat_minor": 2
}
